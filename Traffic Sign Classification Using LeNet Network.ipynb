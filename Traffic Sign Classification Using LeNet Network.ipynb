{
 "cells": [
  {
   "cell_type": "markdown",
   "metadata": {},
   "source": [
    "# STEP 1: IMPORT LIBRARIES AND DATASET"
   ]
  },
  {
   "cell_type": "code",
   "execution_count": 1,
   "metadata": {
    "tags": []
   },
   "outputs": [
    {
     "output_type": "stream",
     "name": "stdout",
     "text": "time: 2 ms\n"
    }
   ],
   "source": [
    "import warnings\n",
    "warnings.filterwarnings(\"ignore\")"
   ]
  },
  {
   "cell_type": "code",
   "execution_count": 2,
   "metadata": {
    "tags": []
   },
   "outputs": [
    {
     "output_type": "stream",
     "name": "stdout",
     "text": "time: 10.5 s\n"
    }
   ],
   "source": [
    "# import libraries \n",
    "import pickle\n",
    "import seaborn as sns\n",
    "import pandas as pd # Import Pandas for data manipulation using dataframes\n",
    "import numpy as np # Import Numpy for data statistical analysis \n",
    "import matplotlib.pyplot as plt # Import matplotlib for data visualisation\n",
    "import random"
   ]
  },
  {
   "cell_type": "code",
   "execution_count": 3,
   "metadata": {
    "tags": []
   },
   "outputs": [
    {
     "output_type": "stream",
     "name": "stdout",
     "text": "time: 787 ms\n"
    }
   ],
   "source": [
    "# The pickle module implements binary protocols for serializing and de-serializing a Python object structure.\n",
    "with open(\"./traffic-signs-data/train.p\", mode='rb') as training_data:\n",
    "    train = pickle.load(training_data)\n",
    "with open(\"./traffic-signs-data/valid.p\", mode='rb') as validation_data:\n",
    "    valid = pickle.load(validation_data)\n",
    "with open(\"./traffic-signs-data/test.p\", mode='rb') as testing_data:\n",
    "    test = pickle.load(testing_data)"
   ]
  },
  {
   "cell_type": "code",
   "execution_count": 4,
   "metadata": {
    "tags": []
   },
   "outputs": [
    {
     "output_type": "stream",
     "name": "stdout",
     "text": "time: 3 ms\n"
    }
   ],
   "source": [
    "X_train, y_train = train['features'], train['labels']\n",
    "X_validation, y_validation = valid['features'], valid['labels']\n",
    "X_test, y_test = test['features'], test['labels']\n",
    ""
   ]
  },
  {
   "cell_type": "code",
   "execution_count": 5,
   "metadata": {
    "tags": []
   },
   "outputs": [
    {
     "output_type": "execute_result",
     "data": {
      "text/plain": "(34799, 32, 32, 3)"
     },
     "metadata": {},
     "execution_count": 5
    },
    {
     "output_type": "stream",
     "name": "stdout",
     "text": "time: 12 ms\n"
    }
   ],
   "source": [
    "X_train.shape"
   ]
  },
  {
   "cell_type": "code",
   "execution_count": 6,
   "metadata": {
    "tags": []
   },
   "outputs": [
    {
     "output_type": "execute_result",
     "data": {
      "text/plain": "(34799,)"
     },
     "metadata": {},
     "execution_count": 6
    },
    {
     "output_type": "stream",
     "name": "stdout",
     "text": "time: 7 ms\n"
    }
   ],
   "source": [
    "y_train.shape"
   ]
  },
  {
   "cell_type": "markdown",
   "metadata": {},
   "source": [
    "# STEP 2: IMAGE EXPLORATION"
   ]
  },
  {
   "cell_type": "code",
   "execution_count": 7,
   "metadata": {
    "tags": []
   },
   "outputs": [
    {
     "output_type": "execute_result",
     "data": {
      "text/plain": "36"
     },
     "metadata": {},
     "execution_count": 7
    },
    {
     "output_type": "display_data",
     "data": {
      "text/plain": "<Figure size 432x288 with 1 Axes>",
      "image/svg+xml": "<?xml version=\"1.0\" encoding=\"utf-8\" standalone=\"no\"?>\r\n<!DOCTYPE svg PUBLIC \"-//W3C//DTD SVG 1.1//EN\"\r\n  \"http://www.w3.org/Graphics/SVG/1.1/DTD/svg11.dtd\">\r\n<!-- Created with matplotlib (https://matplotlib.org/) -->\r\n<svg height=\"248.919844pt\" version=\"1.1\" viewBox=\"0 0 251.565 248.919844\" width=\"251.565pt\" xmlns=\"http://www.w3.org/2000/svg\" xmlns:xlink=\"http://www.w3.org/1999/xlink\">\r\n <metadata>\r\n  <rdf:RDF xmlns:cc=\"http://creativecommons.org/ns#\" xmlns:dc=\"http://purl.org/dc/elements/1.1/\" xmlns:rdf=\"http://www.w3.org/1999/02/22-rdf-syntax-ns#\">\r\n   <cc:Work>\r\n    <dc:type rdf:resource=\"http://purl.org/dc/dcmitype/StillImage\"/>\r\n    <dc:date>2020-08-21T23:51:39.361901</dc:date>\r\n    <dc:format>image/svg+xml</dc:format>\r\n    <dc:creator>\r\n     <cc:Agent>\r\n      <dc:title>Matplotlib v3.3.0, https://matplotlib.org/</dc:title>\r\n     </cc:Agent>\r\n    </dc:creator>\r\n   </cc:Work>\r\n  </rdf:RDF>\r\n </metadata>\r\n <defs>\r\n  <style type=\"text/css\">*{stroke-linecap:butt;stroke-linejoin:round;}</style>\r\n </defs>\r\n <g id=\"figure_1\">\r\n  <g id=\"patch_1\">\r\n   <path d=\"M 0 248.919844 \r\nL 251.565 248.919844 \r\nL 251.565 0 \r\nL 0 0 \r\nz\r\n\" style=\"fill:none;\"/>\r\n  </g>\r\n  <g id=\"axes_1\">\r\n   <g id=\"patch_2\">\r\n    <path d=\"M 26.925 225.041719 \r\nL 244.365 225.041719 \r\nL 244.365 7.601719 \r\nL 26.925 7.601719 \r\nz\r\n\" style=\"fill:#ffffff;\"/>\r\n   </g>\r\n   <g clip-path=\"url(#p99733a66a8)\">\r\n    <image height=\"218\" id=\"image14b8a10fed\" transform=\"scale(1 -1)translate(0 -218)\" width=\"218\" x=\"26.925\" xlink:href=\"data:image/png;base64,\r\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\" y=\"-7.041719\"/>\r\n   </g>\r\n   <g id=\"matplotlib.axis_1\">\r\n    <g id=\"xtick_1\">\r\n     <g id=\"line2d_1\">\r\n      <defs>\r\n       <path d=\"M 0 0 \r\nL 0 3.5 \r\n\" id=\"md6cd82e40f\" style=\"stroke:#000000;stroke-width:0.8;\"/>\r\n      </defs>\r\n      <g>\r\n       <use style=\"stroke:#000000;stroke-width:0.8;\" x=\"30.3225\" xlink:href=\"#md6cd82e40f\" y=\"225.041719\"/>\r\n      </g>\r\n     </g>\r\n     <g id=\"text_1\">\r\n      <!-- 0 -->\r\n      <g transform=\"translate(27.14125 239.640156)scale(0.1 -0.1)\">\r\n       <defs>\r\n        <path d=\"M 31.78125 66.40625 \r\nQ 24.171875 66.40625 20.328125 58.90625 \r\nQ 16.5 51.421875 16.5 36.375 \r\nQ 16.5 21.390625 20.328125 13.890625 \r\nQ 24.171875 6.390625 31.78125 6.390625 \r\nQ 39.453125 6.390625 43.28125 13.890625 \r\nQ 47.125 21.390625 47.125 36.375 \r\nQ 47.125 51.421875 43.28125 58.90625 \r\nQ 39.453125 66.40625 31.78125 66.40625 \r\nz\r\nM 31.78125 74.21875 \r\nQ 44.046875 74.21875 50.515625 64.515625 \r\nQ 56.984375 54.828125 56.984375 36.375 \r\nQ 56.984375 17.96875 50.515625 8.265625 \r\nQ 44.046875 -1.421875 31.78125 -1.421875 \r\nQ 19.53125 -1.421875 13.0625 8.265625 \r\nQ 6.59375 17.96875 6.59375 36.375 \r\nQ 6.59375 54.828125 13.0625 64.515625 \r\nQ 19.53125 74.21875 31.78125 74.21875 \r\nz\r\n\" id=\"DejaVuSans-48\"/>\r\n       </defs>\r\n       <use xlink:href=\"#DejaVuSans-48\"/>\r\n      </g>\r\n     </g>\r\n    </g>\r\n    <g id=\"xtick_2\">\r\n     <g id=\"line2d_2\">\r\n      <g>\r\n       <use style=\"stroke:#000000;stroke-width:0.8;\" x=\"64.2975\" xlink:href=\"#md6cd82e40f\" y=\"225.041719\"/>\r\n      </g>\r\n     </g>\r\n     <g id=\"text_2\">\r\n      <!-- 5 -->\r\n      <g transform=\"translate(61.11625 239.640156)scale(0.1 -0.1)\">\r\n       <defs>\r\n        <path d=\"M 10.796875 72.90625 \r\nL 49.515625 72.90625 \r\nL 49.515625 64.59375 \r\nL 19.828125 64.59375 \r\nL 19.828125 46.734375 \r\nQ 21.96875 47.46875 24.109375 47.828125 \r\nQ 26.265625 48.1875 28.421875 48.1875 \r\nQ 40.625 48.1875 47.75 41.5 \r\nQ 54.890625 34.8125 54.890625 23.390625 \r\nQ 54.890625 11.625 47.5625 5.09375 \r\nQ 40.234375 -1.421875 26.90625 -1.421875 \r\nQ 22.3125 -1.421875 17.546875 -0.640625 \r\nQ 12.796875 0.140625 7.71875 1.703125 \r\nL 7.71875 11.625 \r\nQ 12.109375 9.234375 16.796875 8.0625 \r\nQ 21.484375 6.890625 26.703125 6.890625 \r\nQ 35.15625 6.890625 40.078125 11.328125 \r\nQ 45.015625 15.765625 45.015625 23.390625 \r\nQ 45.015625 31 40.078125 35.4375 \r\nQ 35.15625 39.890625 26.703125 39.890625 \r\nQ 22.75 39.890625 18.8125 39.015625 \r\nQ 14.890625 38.140625 10.796875 36.28125 \r\nz\r\n\" id=\"DejaVuSans-53\"/>\r\n       </defs>\r\n       <use xlink:href=\"#DejaVuSans-53\"/>\r\n      </g>\r\n     </g>\r\n    </g>\r\n    <g id=\"xtick_3\">\r\n     <g id=\"line2d_3\">\r\n      <g>\r\n       <use style=\"stroke:#000000;stroke-width:0.8;\" x=\"98.2725\" xlink:href=\"#md6cd82e40f\" y=\"225.041719\"/>\r\n      </g>\r\n     </g>\r\n     <g id=\"text_3\">\r\n      <!-- 10 -->\r\n      <g transform=\"translate(91.91 239.640156)scale(0.1 -0.1)\">\r\n       <defs>\r\n        <path d=\"M 12.40625 8.296875 \r\nL 28.515625 8.296875 \r\nL 28.515625 63.921875 \r\nL 10.984375 60.40625 \r\nL 10.984375 69.390625 \r\nL 28.421875 72.90625 \r\nL 38.28125 72.90625 \r\nL 38.28125 8.296875 \r\nL 54.390625 8.296875 \r\nL 54.390625 0 \r\nL 12.40625 0 \r\nz\r\n\" id=\"DejaVuSans-49\"/>\r\n       </defs>\r\n       <use xlink:href=\"#DejaVuSans-49\"/>\r\n       <use x=\"63.623047\" xlink:href=\"#DejaVuSans-48\"/>\r\n      </g>\r\n     </g>\r\n    </g>\r\n    <g id=\"xtick_4\">\r\n     <g id=\"line2d_4\">\r\n      <g>\r\n       <use style=\"stroke:#000000;stroke-width:0.8;\" x=\"132.2475\" xlink:href=\"#md6cd82e40f\" y=\"225.041719\"/>\r\n      </g>\r\n     </g>\r\n     <g id=\"text_4\">\r\n      <!-- 15 -->\r\n      <g transform=\"translate(125.885 239.640156)scale(0.1 -0.1)\">\r\n       <use xlink:href=\"#DejaVuSans-49\"/>\r\n       <use x=\"63.623047\" xlink:href=\"#DejaVuSans-53\"/>\r\n      </g>\r\n     </g>\r\n    </g>\r\n    <g id=\"xtick_5\">\r\n     <g id=\"line2d_5\">\r\n      <g>\r\n       <use style=\"stroke:#000000;stroke-width:0.8;\" x=\"166.2225\" xlink:href=\"#md6cd82e40f\" y=\"225.041719\"/>\r\n      </g>\r\n     </g>\r\n     <g id=\"text_5\">\r\n      <!-- 20 -->\r\n      <g transform=\"translate(159.86 239.640156)scale(0.1 -0.1)\">\r\n       <defs>\r\n        <path d=\"M 19.1875 8.296875 \r\nL 53.609375 8.296875 \r\nL 53.609375 0 \r\nL 7.328125 0 \r\nL 7.328125 8.296875 \r\nQ 12.9375 14.109375 22.625 23.890625 \r\nQ 32.328125 33.6875 34.8125 36.53125 \r\nQ 39.546875 41.84375 41.421875 45.53125 \r\nQ 43.3125 49.21875 43.3125 52.78125 \r\nQ 43.3125 58.59375 39.234375 62.25 \r\nQ 35.15625 65.921875 28.609375 65.921875 \r\nQ 23.96875 65.921875 18.8125 64.3125 \r\nQ 13.671875 62.703125 7.8125 59.421875 \r\nL 7.8125 69.390625 \r\nQ 13.765625 71.78125 18.9375 73 \r\nQ 24.125 74.21875 28.421875 74.21875 \r\nQ 39.75 74.21875 46.484375 68.546875 \r\nQ 53.21875 62.890625 53.21875 53.421875 \r\nQ 53.21875 48.921875 51.53125 44.890625 \r\nQ 49.859375 40.875 45.40625 35.40625 \r\nQ 44.1875 33.984375 37.640625 27.21875 \r\nQ 31.109375 20.453125 19.1875 8.296875 \r\nz\r\n\" id=\"DejaVuSans-50\"/>\r\n       </defs>\r\n       <use xlink:href=\"#DejaVuSans-50\"/>\r\n       <use x=\"63.623047\" xlink:href=\"#DejaVuSans-48\"/>\r\n      </g>\r\n     </g>\r\n    </g>\r\n    <g id=\"xtick_6\">\r\n     <g id=\"line2d_6\">\r\n      <g>\r\n       <use style=\"stroke:#000000;stroke-width:0.8;\" x=\"200.1975\" xlink:href=\"#md6cd82e40f\" y=\"225.041719\"/>\r\n      </g>\r\n     </g>\r\n     <g id=\"text_6\">\r\n      <!-- 25 -->\r\n      <g transform=\"translate(193.835 239.640156)scale(0.1 -0.1)\">\r\n       <use xlink:href=\"#DejaVuSans-50\"/>\r\n       <use x=\"63.623047\" xlink:href=\"#DejaVuSans-53\"/>\r\n      </g>\r\n     </g>\r\n    </g>\r\n    <g id=\"xtick_7\">\r\n     <g id=\"line2d_7\">\r\n      <g>\r\n       <use style=\"stroke:#000000;stroke-width:0.8;\" x=\"234.1725\" xlink:href=\"#md6cd82e40f\" y=\"225.041719\"/>\r\n      </g>\r\n     </g>\r\n     <g id=\"text_7\">\r\n      <!-- 30 -->\r\n      <g transform=\"translate(227.81 239.640156)scale(0.1 -0.1)\">\r\n       <defs>\r\n        <path d=\"M 40.578125 39.3125 \r\nQ 47.65625 37.796875 51.625 33 \r\nQ 55.609375 28.21875 55.609375 21.1875 \r\nQ 55.609375 10.40625 48.1875 4.484375 \r\nQ 40.765625 -1.421875 27.09375 -1.421875 \r\nQ 22.515625 -1.421875 17.65625 -0.515625 \r\nQ 12.796875 0.390625 7.625 2.203125 \r\nL 7.625 11.71875 \r\nQ 11.71875 9.328125 16.59375 8.109375 \r\nQ 21.484375 6.890625 26.8125 6.890625 \r\nQ 36.078125 6.890625 40.9375 10.546875 \r\nQ 45.796875 14.203125 45.796875 21.1875 \r\nQ 45.796875 27.640625 41.28125 31.265625 \r\nQ 36.765625 34.90625 28.71875 34.90625 \r\nL 20.21875 34.90625 \r\nL 20.21875 43.015625 \r\nL 29.109375 43.015625 \r\nQ 36.375 43.015625 40.234375 45.921875 \r\nQ 44.09375 48.828125 44.09375 54.296875 \r\nQ 44.09375 59.90625 40.109375 62.90625 \r\nQ 36.140625 65.921875 28.71875 65.921875 \r\nQ 24.65625 65.921875 20.015625 65.03125 \r\nQ 15.375 64.15625 9.8125 62.3125 \r\nL 9.8125 71.09375 \r\nQ 15.4375 72.65625 20.34375 73.4375 \r\nQ 25.25 74.21875 29.59375 74.21875 \r\nQ 40.828125 74.21875 47.359375 69.109375 \r\nQ 53.90625 64.015625 53.90625 55.328125 \r\nQ 53.90625 49.265625 50.4375 45.09375 \r\nQ 46.96875 40.921875 40.578125 39.3125 \r\nz\r\n\" id=\"DejaVuSans-51\"/>\r\n       </defs>\r\n       <use xlink:href=\"#DejaVuSans-51\"/>\r\n       <use x=\"63.623047\" xlink:href=\"#DejaVuSans-48\"/>\r\n      </g>\r\n     </g>\r\n    </g>\r\n   </g>\r\n   <g id=\"matplotlib.axis_2\">\r\n    <g id=\"ytick_1\">\r\n     <g id=\"line2d_8\">\r\n      <defs>\r\n       <path d=\"M 0 0 \r\nL -3.5 0 \r\n\" id=\"m3107592318\" style=\"stroke:#000000;stroke-width:0.8;\"/>\r\n      </defs>\r\n      <g>\r\n       <use style=\"stroke:#000000;stroke-width:0.8;\" x=\"26.925\" xlink:href=\"#m3107592318\" y=\"10.999219\"/>\r\n      </g>\r\n     </g>\r\n     <g id=\"text_8\">\r\n      <!-- 0 -->\r\n      <g transform=\"translate(13.5625 14.798437)scale(0.1 -0.1)\">\r\n       <use xlink:href=\"#DejaVuSans-48\"/>\r\n      </g>\r\n     </g>\r\n    </g>\r\n    <g id=\"ytick_2\">\r\n     <g id=\"line2d_9\">\r\n      <g>\r\n       <use style=\"stroke:#000000;stroke-width:0.8;\" x=\"26.925\" xlink:href=\"#m3107592318\" y=\"44.974219\"/>\r\n      </g>\r\n     </g>\r\n     <g id=\"text_9\">\r\n      <!-- 5 -->\r\n      <g transform=\"translate(13.5625 48.773437)scale(0.1 -0.1)\">\r\n       <use xlink:href=\"#DejaVuSans-53\"/>\r\n      </g>\r\n     </g>\r\n    </g>\r\n    <g id=\"ytick_3\">\r\n     <g id=\"line2d_10\">\r\n      <g>\r\n       <use style=\"stroke:#000000;stroke-width:0.8;\" x=\"26.925\" xlink:href=\"#m3107592318\" y=\"78.949219\"/>\r\n      </g>\r\n     </g>\r\n     <g id=\"text_10\">\r\n      <!-- 10 -->\r\n      <g transform=\"translate(7.2 82.748437)scale(0.1 -0.1)\">\r\n       <use xlink:href=\"#DejaVuSans-49\"/>\r\n       <use x=\"63.623047\" xlink:href=\"#DejaVuSans-48\"/>\r\n      </g>\r\n     </g>\r\n    </g>\r\n    <g id=\"ytick_4\">\r\n     <g id=\"line2d_11\">\r\n      <g>\r\n       <use style=\"stroke:#000000;stroke-width:0.8;\" x=\"26.925\" xlink:href=\"#m3107592318\" y=\"112.924219\"/>\r\n      </g>\r\n     </g>\r\n     <g id=\"text_11\">\r\n      <!-- 15 -->\r\n      <g transform=\"translate(7.2 116.723437)scale(0.1 -0.1)\">\r\n       <use xlink:href=\"#DejaVuSans-49\"/>\r\n       <use x=\"63.623047\" xlink:href=\"#DejaVuSans-53\"/>\r\n      </g>\r\n     </g>\r\n    </g>\r\n    <g id=\"ytick_5\">\r\n     <g id=\"line2d_12\">\r\n      <g>\r\n       <use style=\"stroke:#000000;stroke-width:0.8;\" x=\"26.925\" xlink:href=\"#m3107592318\" y=\"146.899219\"/>\r\n      </g>\r\n     </g>\r\n     <g id=\"text_12\">\r\n      <!-- 20 -->\r\n      <g transform=\"translate(7.2 150.698437)scale(0.1 -0.1)\">\r\n       <use xlink:href=\"#DejaVuSans-50\"/>\r\n       <use x=\"63.623047\" xlink:href=\"#DejaVuSans-48\"/>\r\n      </g>\r\n     </g>\r\n    </g>\r\n    <g id=\"ytick_6\">\r\n     <g id=\"line2d_13\">\r\n      <g>\r\n       <use style=\"stroke:#000000;stroke-width:0.8;\" x=\"26.925\" xlink:href=\"#m3107592318\" y=\"180.874219\"/>\r\n      </g>\r\n     </g>\r\n     <g id=\"text_13\">\r\n      <!-- 25 -->\r\n      <g transform=\"translate(7.2 184.673437)scale(0.1 -0.1)\">\r\n       <use xlink:href=\"#DejaVuSans-50\"/>\r\n       <use x=\"63.623047\" xlink:href=\"#DejaVuSans-53\"/>\r\n      </g>\r\n     </g>\r\n    </g>\r\n    <g id=\"ytick_7\">\r\n     <g id=\"line2d_14\">\r\n      <g>\r\n       <use style=\"stroke:#000000;stroke-width:0.8;\" x=\"26.925\" xlink:href=\"#m3107592318\" y=\"214.849219\"/>\r\n      </g>\r\n     </g>\r\n     <g id=\"text_14\">\r\n      <!-- 30 -->\r\n      <g transform=\"translate(7.2 218.648437)scale(0.1 -0.1)\">\r\n       <use xlink:href=\"#DejaVuSans-51\"/>\r\n       <use x=\"63.623047\" xlink:href=\"#DejaVuSans-48\"/>\r\n      </g>\r\n     </g>\r\n    </g>\r\n   </g>\r\n   <g id=\"patch_3\">\r\n    <path d=\"M 26.925 225.041719 \r\nL 26.925 7.601719 \r\n\" style=\"fill:none;stroke:#000000;stroke-linecap:square;stroke-linejoin:miter;stroke-width:0.8;\"/>\r\n   </g>\r\n   <g id=\"patch_4\">\r\n    <path d=\"M 244.365 225.041719 \r\nL 244.365 7.601719 \r\n\" style=\"fill:none;stroke:#000000;stroke-linecap:square;stroke-linejoin:miter;stroke-width:0.8;\"/>\r\n   </g>\r\n   <g id=\"patch_5\">\r\n    <path d=\"M 26.925 225.041719 \r\nL 244.365 225.041719 \r\n\" style=\"fill:none;stroke:#000000;stroke-linecap:square;stroke-linejoin:miter;stroke-width:0.8;\"/>\r\n   </g>\r\n   <g id=\"patch_6\">\r\n    <path d=\"M 26.925 7.601719 \r\nL 244.365 7.601719 \r\n\" style=\"fill:none;stroke:#000000;stroke-linecap:square;stroke-linejoin:miter;stroke-width:0.8;\"/>\r\n   </g>\r\n  </g>\r\n </g>\r\n <defs>\r\n  <clipPath id=\"p99733a66a8\">\r\n   <rect height=\"217.44\" width=\"217.44\" x=\"26.925\" y=\"7.601719\"/>\r\n  </clipPath>\r\n </defs>\r\n</svg>\r\n",
      "image/png": "[encoded data removed]"
     },
     "metadata": {
      "needs_background": "light"
     }
    },
    {
     "output_type": "stream",
     "name": "stdout",
     "text": "time: 2.02 s\n"
    }
   ],
   "source": [
    "i = 1001\n",
    "plt.imshow(X_train[i]) # Show images are not shuffled\n",
    "y_train[i]"
   ]
  },
  {
   "cell_type": "markdown",
   "metadata": {},
   "source": [
    "# STEP 3: DATA PEPARATION"
   ]
  },
  {
   "cell_type": "code",
   "execution_count": 8,
   "metadata": {
    "tags": []
   },
   "outputs": [
    {
     "output_type": "stream",
     "name": "stdout",
     "text": "time: 278 ms\n"
    }
   ],
   "source": [
    "## Shuffle the dataset \n",
    "from sklearn.utils import shuffle\n",
    "X_train, y_train = shuffle(X_train, y_train)\n",
    ""
   ]
  },
  {
   "cell_type": "code",
   "execution_count": 9,
   "metadata": {
    "tags": []
   },
   "outputs": [
    {
     "output_type": "stream",
     "name": "stdout",
     "text": "time: 7.88 s\n"
    }
   ],
   "source": [
    "X_train_gray = np.sum(X_train/3, axis=3, keepdims=True)\n",
    "X_test_gray  = np.sum(X_test/3, axis=3, keepdims=True)\n",
    "X_validation_gray  = np.sum(X_validation/3, axis=3, keepdims=True) "
   ]
  },
  {
   "cell_type": "code",
   "execution_count": 10,
   "metadata": {
    "tags": []
   },
   "outputs": [
    {
     "output_type": "stream",
     "name": "stdout",
     "text": "time: 1.62 s\n"
    }
   ],
   "source": [
    "X_train_gray_norm = (X_train_gray - 128)/128 \n",
    "X_test_gray_norm = (X_test_gray - 128)/128\n",
    "X_validation_gray_norm = (X_validation_gray - 128)/128\n",
    ""
   ]
  },
  {
   "cell_type": "code",
   "execution_count": 11,
   "metadata": {
    "tags": []
   },
   "outputs": [
    {
     "output_type": "execute_result",
     "data": {
      "text/plain": "(34799, 32, 32, 1)"
     },
     "metadata": {},
     "execution_count": 11
    },
    {
     "output_type": "stream",
     "name": "stdout",
     "text": "time: 18 ms\n"
    }
   ],
   "source": [
    "X_train_gray.shape"
   ]
  },
  {
   "cell_type": "code",
   "execution_count": 12,
   "metadata": {
    "tags": []
   },
   "outputs": [
    {
     "output_type": "execute_result",
     "data": {
      "text/plain": "<matplotlib.image.AxesImage at 0x1629e5a7f08>"
     },
     "metadata": {},
     "execution_count": 12
    },
    {
     "output_type": "display_data",
     "data": {
      "text/plain": "<Figure size 432x288 with 1 Axes>",
      "image/svg+xml": "<?xml version=\"1.0\" encoding=\"utf-8\" standalone=\"no\"?>\r\n<!DOCTYPE svg PUBLIC \"-//W3C//DTD SVG 1.1//EN\"\r\n  \"http://www.w3.org/Graphics/SVG/1.1/DTD/svg11.dtd\">\r\n<!-- Created with matplotlib (https://matplotlib.org/) -->\r\n<svg height=\"248.919844pt\" version=\"1.1\" viewBox=\"0 0 251.565 248.919844\" width=\"251.565pt\" xmlns=\"http://www.w3.org/2000/svg\" xmlns:xlink=\"http://www.w3.org/1999/xlink\">\r\n <metadata>\r\n  <rdf:RDF xmlns:cc=\"http://creativecommons.org/ns#\" xmlns:dc=\"http://purl.org/dc/elements/1.1/\" xmlns:rdf=\"http://www.w3.org/1999/02/22-rdf-syntax-ns#\">\r\n   <cc:Work>\r\n    <dc:type rdf:resource=\"http://purl.org/dc/dcmitype/StillImage\"/>\r\n    <dc:date>2020-08-21T23:51:54.378715</dc:date>\r\n    <dc:format>image/svg+xml</dc:format>\r\n    <dc:creator>\r\n     <cc:Agent>\r\n      <dc:title>Matplotlib v3.3.0, https://matplotlib.org/</dc:title>\r\n     </cc:Agent>\r\n    </dc:creator>\r\n   </cc:Work>\r\n  </rdf:RDF>\r\n </metadata>\r\n <defs>\r\n  <style type=\"text/css\">*{stroke-linecap:butt;stroke-linejoin:round;}</style>\r\n </defs>\r\n <g id=\"figure_1\">\r\n  <g id=\"patch_1\">\r\n   <path d=\"M 0 248.919844 \r\nL 251.565 248.919844 \r\nL 251.565 0 \r\nL 0 0 \r\nz\r\n\" style=\"fill:none;\"/>\r\n  </g>\r\n  <g id=\"axes_1\">\r\n   <g id=\"patch_2\">\r\n    <path d=\"M 26.925 225.041719 \r\nL 244.365 225.041719 \r\nL 244.365 7.601719 \r\nL 26.925 7.601719 \r\nz\r\n\" style=\"fill:#ffffff;\"/>\r\n   </g>\r\n   <g clip-path=\"url(#pe9f055733d)\">\r\n    <image height=\"218\" id=\"image0be15f5867\" transform=\"scale(1 -1)translate(0 -218)\" width=\"218\" x=\"26.925\" xlink:href=\"data:image/png;base64,\r\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\" y=\"-7.041719\"/>\r\n   </g>\r\n   <g id=\"matplotlib.axis_1\">\r\n    <g id=\"xtick_1\">\r\n     <g id=\"line2d_1\">\r\n      <defs>\r\n       <path d=\"M 0 0 \r\nL 0 3.5 \r\n\" id=\"mdd1380502e\" style=\"stroke:#000000;stroke-width:0.8;\"/>\r\n      </defs>\r\n      <g>\r\n       <use style=\"stroke:#000000;stroke-width:0.8;\" x=\"30.3225\" xlink:href=\"#mdd1380502e\" y=\"225.041719\"/>\r\n      </g>\r\n     </g>\r\n     <g id=\"text_1\">\r\n      <!-- 0 -->\r\n      <g transform=\"translate(27.14125 239.640156)scale(0.1 -0.1)\">\r\n       <defs>\r\n        <path d=\"M 31.78125 66.40625 \r\nQ 24.171875 66.40625 20.328125 58.90625 \r\nQ 16.5 51.421875 16.5 36.375 \r\nQ 16.5 21.390625 20.328125 13.890625 \r\nQ 24.171875 6.390625 31.78125 6.390625 \r\nQ 39.453125 6.390625 43.28125 13.890625 \r\nQ 47.125 21.390625 47.125 36.375 \r\nQ 47.125 51.421875 43.28125 58.90625 \r\nQ 39.453125 66.40625 31.78125 66.40625 \r\nz\r\nM 31.78125 74.21875 \r\nQ 44.046875 74.21875 50.515625 64.515625 \r\nQ 56.984375 54.828125 56.984375 36.375 \r\nQ 56.984375 17.96875 50.515625 8.265625 \r\nQ 44.046875 -1.421875 31.78125 -1.421875 \r\nQ 19.53125 -1.421875 13.0625 8.265625 \r\nQ 6.59375 17.96875 6.59375 36.375 \r\nQ 6.59375 54.828125 13.0625 64.515625 \r\nQ 19.53125 74.21875 31.78125 74.21875 \r\nz\r\n\" id=\"DejaVuSans-48\"/>\r\n       </defs>\r\n       <use xlink:href=\"#DejaVuSans-48\"/>\r\n      </g>\r\n     </g>\r\n    </g>\r\n    <g id=\"xtick_2\">\r\n     <g id=\"line2d_2\">\r\n      <g>\r\n       <use style=\"stroke:#000000;stroke-width:0.8;\" x=\"64.2975\" xlink:href=\"#mdd1380502e\" y=\"225.041719\"/>\r\n      </g>\r\n     </g>\r\n     <g id=\"text_2\">\r\n      <!-- 5 -->\r\n      <g transform=\"translate(61.11625 239.640156)scale(0.1 -0.1)\">\r\n       <defs>\r\n        <path d=\"M 10.796875 72.90625 \r\nL 49.515625 72.90625 \r\nL 49.515625 64.59375 \r\nL 19.828125 64.59375 \r\nL 19.828125 46.734375 \r\nQ 21.96875 47.46875 24.109375 47.828125 \r\nQ 26.265625 48.1875 28.421875 48.1875 \r\nQ 40.625 48.1875 47.75 41.5 \r\nQ 54.890625 34.8125 54.890625 23.390625 \r\nQ 54.890625 11.625 47.5625 5.09375 \r\nQ 40.234375 -1.421875 26.90625 -1.421875 \r\nQ 22.3125 -1.421875 17.546875 -0.640625 \r\nQ 12.796875 0.140625 7.71875 1.703125 \r\nL 7.71875 11.625 \r\nQ 12.109375 9.234375 16.796875 8.0625 \r\nQ 21.484375 6.890625 26.703125 6.890625 \r\nQ 35.15625 6.890625 40.078125 11.328125 \r\nQ 45.015625 15.765625 45.015625 23.390625 \r\nQ 45.015625 31 40.078125 35.4375 \r\nQ 35.15625 39.890625 26.703125 39.890625 \r\nQ 22.75 39.890625 18.8125 39.015625 \r\nQ 14.890625 38.140625 10.796875 36.28125 \r\nz\r\n\" id=\"DejaVuSans-53\"/>\r\n       </defs>\r\n       <use xlink:href=\"#DejaVuSans-53\"/>\r\n      </g>\r\n     </g>\r\n    </g>\r\n    <g id=\"xtick_3\">\r\n     <g id=\"line2d_3\">\r\n      <g>\r\n       <use style=\"stroke:#000000;stroke-width:0.8;\" x=\"98.2725\" xlink:href=\"#mdd1380502e\" y=\"225.041719\"/>\r\n      </g>\r\n     </g>\r\n     <g id=\"text_3\">\r\n      <!-- 10 -->\r\n      <g transform=\"translate(91.91 239.640156)scale(0.1 -0.1)\">\r\n       <defs>\r\n        <path d=\"M 12.40625 8.296875 \r\nL 28.515625 8.296875 \r\nL 28.515625 63.921875 \r\nL 10.984375 60.40625 \r\nL 10.984375 69.390625 \r\nL 28.421875 72.90625 \r\nL 38.28125 72.90625 \r\nL 38.28125 8.296875 \r\nL 54.390625 8.296875 \r\nL 54.390625 0 \r\nL 12.40625 0 \r\nz\r\n\" id=\"DejaVuSans-49\"/>\r\n       </defs>\r\n       <use xlink:href=\"#DejaVuSans-49\"/>\r\n       <use x=\"63.623047\" xlink:href=\"#DejaVuSans-48\"/>\r\n      </g>\r\n     </g>\r\n    </g>\r\n    <g id=\"xtick_4\">\r\n     <g id=\"line2d_4\">\r\n      <g>\r\n       <use style=\"stroke:#000000;stroke-width:0.8;\" x=\"132.2475\" xlink:href=\"#mdd1380502e\" y=\"225.041719\"/>\r\n      </g>\r\n     </g>\r\n     <g id=\"text_4\">\r\n      <!-- 15 -->\r\n      <g transform=\"translate(125.885 239.640156)scale(0.1 -0.1)\">\r\n       <use xlink:href=\"#DejaVuSans-49\"/>\r\n       <use x=\"63.623047\" xlink:href=\"#DejaVuSans-53\"/>\r\n      </g>\r\n     </g>\r\n    </g>\r\n    <g id=\"xtick_5\">\r\n     <g id=\"line2d_5\">\r\n      <g>\r\n       <use style=\"stroke:#000000;stroke-width:0.8;\" x=\"166.2225\" xlink:href=\"#mdd1380502e\" y=\"225.041719\"/>\r\n      </g>\r\n     </g>\r\n     <g id=\"text_5\">\r\n      <!-- 20 -->\r\n      <g transform=\"translate(159.86 239.640156)scale(0.1 -0.1)\">\r\n       <defs>\r\n        <path d=\"M 19.1875 8.296875 \r\nL 53.609375 8.296875 \r\nL 53.609375 0 \r\nL 7.328125 0 \r\nL 7.328125 8.296875 \r\nQ 12.9375 14.109375 22.625 23.890625 \r\nQ 32.328125 33.6875 34.8125 36.53125 \r\nQ 39.546875 41.84375 41.421875 45.53125 \r\nQ 43.3125 49.21875 43.3125 52.78125 \r\nQ 43.3125 58.59375 39.234375 62.25 \r\nQ 35.15625 65.921875 28.609375 65.921875 \r\nQ 23.96875 65.921875 18.8125 64.3125 \r\nQ 13.671875 62.703125 7.8125 59.421875 \r\nL 7.8125 69.390625 \r\nQ 13.765625 71.78125 18.9375 73 \r\nQ 24.125 74.21875 28.421875 74.21875 \r\nQ 39.75 74.21875 46.484375 68.546875 \r\nQ 53.21875 62.890625 53.21875 53.421875 \r\nQ 53.21875 48.921875 51.53125 44.890625 \r\nQ 49.859375 40.875 45.40625 35.40625 \r\nQ 44.1875 33.984375 37.640625 27.21875 \r\nQ 31.109375 20.453125 19.1875 8.296875 \r\nz\r\n\" id=\"DejaVuSans-50\"/>\r\n       </defs>\r\n       <use xlink:href=\"#DejaVuSans-50\"/>\r\n       <use x=\"63.623047\" xlink:href=\"#DejaVuSans-48\"/>\r\n      </g>\r\n     </g>\r\n    </g>\r\n    <g id=\"xtick_6\">\r\n     <g id=\"line2d_6\">\r\n      <g>\r\n       <use style=\"stroke:#000000;stroke-width:0.8;\" x=\"200.1975\" xlink:href=\"#mdd1380502e\" y=\"225.041719\"/>\r\n      </g>\r\n     </g>\r\n     <g id=\"text_6\">\r\n      <!-- 25 -->\r\n      <g transform=\"translate(193.835 239.640156)scale(0.1 -0.1)\">\r\n       <use xlink:href=\"#DejaVuSans-50\"/>\r\n       <use x=\"63.623047\" xlink:href=\"#DejaVuSans-53\"/>\r\n      </g>\r\n     </g>\r\n    </g>\r\n    <g id=\"xtick_7\">\r\n     <g id=\"line2d_7\">\r\n      <g>\r\n       <use style=\"stroke:#000000;stroke-width:0.8;\" x=\"234.1725\" xlink:href=\"#mdd1380502e\" y=\"225.041719\"/>\r\n      </g>\r\n     </g>\r\n     <g id=\"text_7\">\r\n      <!-- 30 -->\r\n      <g transform=\"translate(227.81 239.640156)scale(0.1 -0.1)\">\r\n       <defs>\r\n        <path d=\"M 40.578125 39.3125 \r\nQ 47.65625 37.796875 51.625 33 \r\nQ 55.609375 28.21875 55.609375 21.1875 \r\nQ 55.609375 10.40625 48.1875 4.484375 \r\nQ 40.765625 -1.421875 27.09375 -1.421875 \r\nQ 22.515625 -1.421875 17.65625 -0.515625 \r\nQ 12.796875 0.390625 7.625 2.203125 \r\nL 7.625 11.71875 \r\nQ 11.71875 9.328125 16.59375 8.109375 \r\nQ 21.484375 6.890625 26.8125 6.890625 \r\nQ 36.078125 6.890625 40.9375 10.546875 \r\nQ 45.796875 14.203125 45.796875 21.1875 \r\nQ 45.796875 27.640625 41.28125 31.265625 \r\nQ 36.765625 34.90625 28.71875 34.90625 \r\nL 20.21875 34.90625 \r\nL 20.21875 43.015625 \r\nL 29.109375 43.015625 \r\nQ 36.375 43.015625 40.234375 45.921875 \r\nQ 44.09375 48.828125 44.09375 54.296875 \r\nQ 44.09375 59.90625 40.109375 62.90625 \r\nQ 36.140625 65.921875 28.71875 65.921875 \r\nQ 24.65625 65.921875 20.015625 65.03125 \r\nQ 15.375 64.15625 9.8125 62.3125 \r\nL 9.8125 71.09375 \r\nQ 15.4375 72.65625 20.34375 73.4375 \r\nQ 25.25 74.21875 29.59375 74.21875 \r\nQ 40.828125 74.21875 47.359375 69.109375 \r\nQ 53.90625 64.015625 53.90625 55.328125 \r\nQ 53.90625 49.265625 50.4375 45.09375 \r\nQ 46.96875 40.921875 40.578125 39.3125 \r\nz\r\n\" id=\"DejaVuSans-51\"/>\r\n       </defs>\r\n       <use xlink:href=\"#DejaVuSans-51\"/>\r\n       <use x=\"63.623047\" xlink:href=\"#DejaVuSans-48\"/>\r\n      </g>\r\n     </g>\r\n    </g>\r\n   </g>\r\n   <g id=\"matplotlib.axis_2\">\r\n    <g id=\"ytick_1\">\r\n     <g id=\"line2d_8\">\r\n      <defs>\r\n       <path d=\"M 0 0 \r\nL -3.5 0 \r\n\" id=\"me431de41b5\" style=\"stroke:#000000;stroke-width:0.8;\"/>\r\n      </defs>\r\n      <g>\r\n       <use style=\"stroke:#000000;stroke-width:0.8;\" x=\"26.925\" xlink:href=\"#me431de41b5\" y=\"10.999219\"/>\r\n      </g>\r\n     </g>\r\n     <g id=\"text_8\">\r\n      <!-- 0 -->\r\n      <g transform=\"translate(13.5625 14.798437)scale(0.1 -0.1)\">\r\n       <use xlink:href=\"#DejaVuSans-48\"/>\r\n      </g>\r\n     </g>\r\n    </g>\r\n    <g id=\"ytick_2\">\r\n     <g id=\"line2d_9\">\r\n      <g>\r\n       <use style=\"stroke:#000000;stroke-width:0.8;\" x=\"26.925\" xlink:href=\"#me431de41b5\" y=\"44.974219\"/>\r\n      </g>\r\n     </g>\r\n     <g id=\"text_9\">\r\n      <!-- 5 -->\r\n      <g transform=\"translate(13.5625 48.773437)scale(0.1 -0.1)\">\r\n       <use xlink:href=\"#DejaVuSans-53\"/>\r\n      </g>\r\n     </g>\r\n    </g>\r\n    <g id=\"ytick_3\">\r\n     <g id=\"line2d_10\">\r\n      <g>\r\n       <use style=\"stroke:#000000;stroke-width:0.8;\" x=\"26.925\" xlink:href=\"#me431de41b5\" y=\"78.949219\"/>\r\n      </g>\r\n     </g>\r\n     <g id=\"text_10\">\r\n      <!-- 10 -->\r\n      <g transform=\"translate(7.2 82.748437)scale(0.1 -0.1)\">\r\n       <use xlink:href=\"#DejaVuSans-49\"/>\r\n       <use x=\"63.623047\" xlink:href=\"#DejaVuSans-48\"/>\r\n      </g>\r\n     </g>\r\n    </g>\r\n    <g id=\"ytick_4\">\r\n     <g id=\"line2d_11\">\r\n      <g>\r\n       <use style=\"stroke:#000000;stroke-width:0.8;\" x=\"26.925\" xlink:href=\"#me431de41b5\" y=\"112.924219\"/>\r\n      </g>\r\n     </g>\r\n     <g id=\"text_11\">\r\n      <!-- 15 -->\r\n      <g transform=\"translate(7.2 116.723437)scale(0.1 -0.1)\">\r\n       <use xlink:href=\"#DejaVuSans-49\"/>\r\n       <use x=\"63.623047\" xlink:href=\"#DejaVuSans-53\"/>\r\n      </g>\r\n     </g>\r\n    </g>\r\n    <g id=\"ytick_5\">\r\n     <g id=\"line2d_12\">\r\n      <g>\r\n       <use style=\"stroke:#000000;stroke-width:0.8;\" x=\"26.925\" xlink:href=\"#me431de41b5\" y=\"146.899219\"/>\r\n      </g>\r\n     </g>\r\n     <g id=\"text_12\">\r\n      <!-- 20 -->\r\n      <g transform=\"translate(7.2 150.698437)scale(0.1 -0.1)\">\r\n       <use xlink:href=\"#DejaVuSans-50\"/>\r\n       <use x=\"63.623047\" xlink:href=\"#DejaVuSans-48\"/>\r\n      </g>\r\n     </g>\r\n    </g>\r\n    <g id=\"ytick_6\">\r\n     <g id=\"line2d_13\">\r\n      <g>\r\n       <use style=\"stroke:#000000;stroke-width:0.8;\" x=\"26.925\" xlink:href=\"#me431de41b5\" y=\"180.874219\"/>\r\n      </g>\r\n     </g>\r\n     <g id=\"text_13\">\r\n      <!-- 25 -->\r\n      <g transform=\"translate(7.2 184.673437)scale(0.1 -0.1)\">\r\n       <use xlink:href=\"#DejaVuSans-50\"/>\r\n       <use x=\"63.623047\" xlink:href=\"#DejaVuSans-53\"/>\r\n      </g>\r\n     </g>\r\n    </g>\r\n    <g id=\"ytick_7\">\r\n     <g id=\"line2d_14\">\r\n      <g>\r\n       <use style=\"stroke:#000000;stroke-width:0.8;\" x=\"26.925\" xlink:href=\"#me431de41b5\" y=\"214.849219\"/>\r\n      </g>\r\n     </g>\r\n     <g id=\"text_14\">\r\n      <!-- 30 -->\r\n      <g transform=\"translate(7.2 218.648437)scale(0.1 -0.1)\">\r\n       <use xlink:href=\"#DejaVuSans-51\"/>\r\n       <use x=\"63.623047\" xlink:href=\"#DejaVuSans-48\"/>\r\n      </g>\r\n     </g>\r\n    </g>\r\n   </g>\r\n   <g id=\"patch_3\">\r\n    <path d=\"M 26.925 225.041719 \r\nL 26.925 7.601719 \r\n\" style=\"fill:none;stroke:#000000;stroke-linecap:square;stroke-linejoin:miter;stroke-width:0.8;\"/>\r\n   </g>\r\n   <g id=\"patch_4\">\r\n    <path d=\"M 244.365 225.041719 \r\nL 244.365 7.601719 \r\n\" style=\"fill:none;stroke:#000000;stroke-linecap:square;stroke-linejoin:miter;stroke-width:0.8;\"/>\r\n   </g>\r\n   <g id=\"patch_5\">\r\n    <path d=\"M 26.925 225.041719 \r\nL 244.365 225.041719 \r\n\" style=\"fill:none;stroke:#000000;stroke-linecap:square;stroke-linejoin:miter;stroke-width:0.8;\"/>\r\n   </g>\r\n   <g id=\"patch_6\">\r\n    <path d=\"M 26.925 7.601719 \r\nL 244.365 7.601719 \r\n\" style=\"fill:none;stroke:#000000;stroke-linecap:square;stroke-linejoin:miter;stroke-width:0.8;\"/>\r\n   </g>\r\n  </g>\r\n </g>\r\n <defs>\r\n  <clipPath id=\"pe9f055733d\">\r\n   <rect height=\"217.44\" width=\"217.44\" x=\"26.925\" y=\"7.601719\"/>\r\n  </clipPath>\r\n </defs>\r\n</svg>\r\n",
      "image/png": "[encoded data removed]"
     },
     "metadata": {
      "needs_background": "light"
     }
    },
    {
     "output_type": "display_data",
     "data": {
      "text/plain": "<Figure size 432x288 with 1 Axes>",
      "image/svg+xml": "<?xml version=\"1.0\" encoding=\"utf-8\" standalone=\"no\"?>\r\n<!DOCTYPE svg PUBLIC \"-//W3C//DTD SVG 1.1//EN\"\r\n  \"http://www.w3.org/Graphics/SVG/1.1/DTD/svg11.dtd\">\r\n<!-- Created with matplotlib (https://matplotlib.org/) -->\r\n<svg height=\"248.919844pt\" version=\"1.1\" viewBox=\"0 0 251.565 248.919844\" width=\"251.565pt\" xmlns=\"http://www.w3.org/2000/svg\" xmlns:xlink=\"http://www.w3.org/1999/xlink\">\r\n <metadata>\r\n  <rdf:RDF xmlns:cc=\"http://creativecommons.org/ns#\" xmlns:dc=\"http://purl.org/dc/elements/1.1/\" xmlns:rdf=\"http://www.w3.org/1999/02/22-rdf-syntax-ns#\">\r\n   <cc:Work>\r\n    <dc:type rdf:resource=\"http://purl.org/dc/dcmitype/StillImage\"/>\r\n    <dc:date>2020-08-21T23:51:55.577714</dc:date>\r\n    <dc:format>image/svg+xml</dc:format>\r\n    <dc:creator>\r\n     <cc:Agent>\r\n      <dc:title>Matplotlib v3.3.0, https://matplotlib.org/</dc:title>\r\n     </cc:Agent>\r\n    </dc:creator>\r\n   </cc:Work>\r\n  </rdf:RDF>\r\n </metadata>\r\n <defs>\r\n  <style type=\"text/css\">*{stroke-linecap:butt;stroke-linejoin:round;}</style>\r\n </defs>\r\n <g id=\"figure_1\">\r\n  <g id=\"patch_1\">\r\n   <path d=\"M 0 248.919844 \r\nL 251.565 248.919844 \r\nL 251.565 0 \r\nL 0 0 \r\nz\r\n\" style=\"fill:none;\"/>\r\n  </g>\r\n  <g id=\"axes_1\">\r\n   <g id=\"patch_2\">\r\n    <path d=\"M 26.925 225.041719 \r\nL 244.365 225.041719 \r\nL 244.365 7.601719 \r\nL 26.925 7.601719 \r\nz\r\n\" style=\"fill:#ffffff;\"/>\r\n   </g>\r\n   <g clip-path=\"url(#pf4ec59eccc)\">\r\n    <image height=\"218\" id=\"imagee71cdcff46\" transform=\"scale(1 -1)translate(0 -218)\" width=\"218\" x=\"26.925\" xlink:href=\"data:image/png;base64,\r\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\" y=\"-7.041719\"/>\r\n   </g>\r\n   <g id=\"matplotlib.axis_1\">\r\n    <g id=\"xtick_1\">\r\n     <g id=\"line2d_1\">\r\n      <defs>\r\n       <path d=\"M 0 0 \r\nL 0 3.5 \r\n\" id=\"m11fd9bc357\" style=\"stroke:#000000;stroke-width:0.8;\"/>\r\n      </defs>\r\n      <g>\r\n       <use style=\"stroke:#000000;stroke-width:0.8;\" x=\"30.3225\" xlink:href=\"#m11fd9bc357\" y=\"225.041719\"/>\r\n      </g>\r\n     </g>\r\n     <g id=\"text_1\">\r\n      <!-- 0 -->\r\n      <g transform=\"translate(27.14125 239.640156)scale(0.1 -0.1)\">\r\n       <defs>\r\n        <path d=\"M 31.78125 66.40625 \r\nQ 24.171875 66.40625 20.328125 58.90625 \r\nQ 16.5 51.421875 16.5 36.375 \r\nQ 16.5 21.390625 20.328125 13.890625 \r\nQ 24.171875 6.390625 31.78125 6.390625 \r\nQ 39.453125 6.390625 43.28125 13.890625 \r\nQ 47.125 21.390625 47.125 36.375 \r\nQ 47.125 51.421875 43.28125 58.90625 \r\nQ 39.453125 66.40625 31.78125 66.40625 \r\nz\r\nM 31.78125 74.21875 \r\nQ 44.046875 74.21875 50.515625 64.515625 \r\nQ 56.984375 54.828125 56.984375 36.375 \r\nQ 56.984375 17.96875 50.515625 8.265625 \r\nQ 44.046875 -1.421875 31.78125 -1.421875 \r\nQ 19.53125 -1.421875 13.0625 8.265625 \r\nQ 6.59375 17.96875 6.59375 36.375 \r\nQ 6.59375 54.828125 13.0625 64.515625 \r\nQ 19.53125 74.21875 31.78125 74.21875 \r\nz\r\n\" id=\"DejaVuSans-48\"/>\r\n       </defs>\r\n       <use xlink:href=\"#DejaVuSans-48\"/>\r\n      </g>\r\n     </g>\r\n    </g>\r\n    <g id=\"xtick_2\">\r\n     <g id=\"line2d_2\">\r\n      <g>\r\n       <use style=\"stroke:#000000;stroke-width:0.8;\" x=\"64.2975\" xlink:href=\"#m11fd9bc357\" y=\"225.041719\"/>\r\n      </g>\r\n     </g>\r\n     <g id=\"text_2\">\r\n      <!-- 5 -->\r\n      <g transform=\"translate(61.11625 239.640156)scale(0.1 -0.1)\">\r\n       <defs>\r\n        <path d=\"M 10.796875 72.90625 \r\nL 49.515625 72.90625 \r\nL 49.515625 64.59375 \r\nL 19.828125 64.59375 \r\nL 19.828125 46.734375 \r\nQ 21.96875 47.46875 24.109375 47.828125 \r\nQ 26.265625 48.1875 28.421875 48.1875 \r\nQ 40.625 48.1875 47.75 41.5 \r\nQ 54.890625 34.8125 54.890625 23.390625 \r\nQ 54.890625 11.625 47.5625 5.09375 \r\nQ 40.234375 -1.421875 26.90625 -1.421875 \r\nQ 22.3125 -1.421875 17.546875 -0.640625 \r\nQ 12.796875 0.140625 7.71875 1.703125 \r\nL 7.71875 11.625 \r\nQ 12.109375 9.234375 16.796875 8.0625 \r\nQ 21.484375 6.890625 26.703125 6.890625 \r\nQ 35.15625 6.890625 40.078125 11.328125 \r\nQ 45.015625 15.765625 45.015625 23.390625 \r\nQ 45.015625 31 40.078125 35.4375 \r\nQ 35.15625 39.890625 26.703125 39.890625 \r\nQ 22.75 39.890625 18.8125 39.015625 \r\nQ 14.890625 38.140625 10.796875 36.28125 \r\nz\r\n\" id=\"DejaVuSans-53\"/>\r\n       </defs>\r\n       <use xlink:href=\"#DejaVuSans-53\"/>\r\n      </g>\r\n     </g>\r\n    </g>\r\n    <g id=\"xtick_3\">\r\n     <g id=\"line2d_3\">\r\n      <g>\r\n       <use style=\"stroke:#000000;stroke-width:0.8;\" x=\"98.2725\" xlink:href=\"#m11fd9bc357\" y=\"225.041719\"/>\r\n      </g>\r\n     </g>\r\n     <g id=\"text_3\">\r\n      <!-- 10 -->\r\n      <g transform=\"translate(91.91 239.640156)scale(0.1 -0.1)\">\r\n       <defs>\r\n        <path d=\"M 12.40625 8.296875 \r\nL 28.515625 8.296875 \r\nL 28.515625 63.921875 \r\nL 10.984375 60.40625 \r\nL 10.984375 69.390625 \r\nL 28.421875 72.90625 \r\nL 38.28125 72.90625 \r\nL 38.28125 8.296875 \r\nL 54.390625 8.296875 \r\nL 54.390625 0 \r\nL 12.40625 0 \r\nz\r\n\" id=\"DejaVuSans-49\"/>\r\n       </defs>\r\n       <use xlink:href=\"#DejaVuSans-49\"/>\r\n       <use x=\"63.623047\" xlink:href=\"#DejaVuSans-48\"/>\r\n      </g>\r\n     </g>\r\n    </g>\r\n    <g id=\"xtick_4\">\r\n     <g id=\"line2d_4\">\r\n      <g>\r\n       <use style=\"stroke:#000000;stroke-width:0.8;\" x=\"132.2475\" xlink:href=\"#m11fd9bc357\" y=\"225.041719\"/>\r\n      </g>\r\n     </g>\r\n     <g id=\"text_4\">\r\n      <!-- 15 -->\r\n      <g transform=\"translate(125.885 239.640156)scale(0.1 -0.1)\">\r\n       <use xlink:href=\"#DejaVuSans-49\"/>\r\n       <use x=\"63.623047\" xlink:href=\"#DejaVuSans-53\"/>\r\n      </g>\r\n     </g>\r\n    </g>\r\n    <g id=\"xtick_5\">\r\n     <g id=\"line2d_5\">\r\n      <g>\r\n       <use style=\"stroke:#000000;stroke-width:0.8;\" x=\"166.2225\" xlink:href=\"#m11fd9bc357\" y=\"225.041719\"/>\r\n      </g>\r\n     </g>\r\n     <g id=\"text_5\">\r\n      <!-- 20 -->\r\n      <g transform=\"translate(159.86 239.640156)scale(0.1 -0.1)\">\r\n       <defs>\r\n        <path d=\"M 19.1875 8.296875 \r\nL 53.609375 8.296875 \r\nL 53.609375 0 \r\nL 7.328125 0 \r\nL 7.328125 8.296875 \r\nQ 12.9375 14.109375 22.625 23.890625 \r\nQ 32.328125 33.6875 34.8125 36.53125 \r\nQ 39.546875 41.84375 41.421875 45.53125 \r\nQ 43.3125 49.21875 43.3125 52.78125 \r\nQ 43.3125 58.59375 39.234375 62.25 \r\nQ 35.15625 65.921875 28.609375 65.921875 \r\nQ 23.96875 65.921875 18.8125 64.3125 \r\nQ 13.671875 62.703125 7.8125 59.421875 \r\nL 7.8125 69.390625 \r\nQ 13.765625 71.78125 18.9375 73 \r\nQ 24.125 74.21875 28.421875 74.21875 \r\nQ 39.75 74.21875 46.484375 68.546875 \r\nQ 53.21875 62.890625 53.21875 53.421875 \r\nQ 53.21875 48.921875 51.53125 44.890625 \r\nQ 49.859375 40.875 45.40625 35.40625 \r\nQ 44.1875 33.984375 37.640625 27.21875 \r\nQ 31.109375 20.453125 19.1875 8.296875 \r\nz\r\n\" id=\"DejaVuSans-50\"/>\r\n       </defs>\r\n       <use xlink:href=\"#DejaVuSans-50\"/>\r\n       <use x=\"63.623047\" xlink:href=\"#DejaVuSans-48\"/>\r\n      </g>\r\n     </g>\r\n    </g>\r\n    <g id=\"xtick_6\">\r\n     <g id=\"line2d_6\">\r\n      <g>\r\n       <use style=\"stroke:#000000;stroke-width:0.8;\" x=\"200.1975\" xlink:href=\"#m11fd9bc357\" y=\"225.041719\"/>\r\n      </g>\r\n     </g>\r\n     <g id=\"text_6\">\r\n      <!-- 25 -->\r\n      <g transform=\"translate(193.835 239.640156)scale(0.1 -0.1)\">\r\n       <use xlink:href=\"#DejaVuSans-50\"/>\r\n       <use x=\"63.623047\" xlink:href=\"#DejaVuSans-53\"/>\r\n      </g>\r\n     </g>\r\n    </g>\r\n    <g id=\"xtick_7\">\r\n     <g id=\"line2d_7\">\r\n      <g>\r\n       <use style=\"stroke:#000000;stroke-width:0.8;\" x=\"234.1725\" xlink:href=\"#m11fd9bc357\" y=\"225.041719\"/>\r\n      </g>\r\n     </g>\r\n     <g id=\"text_7\">\r\n      <!-- 30 -->\r\n      <g transform=\"translate(227.81 239.640156)scale(0.1 -0.1)\">\r\n       <defs>\r\n        <path d=\"M 40.578125 39.3125 \r\nQ 47.65625 37.796875 51.625 33 \r\nQ 55.609375 28.21875 55.609375 21.1875 \r\nQ 55.609375 10.40625 48.1875 4.484375 \r\nQ 40.765625 -1.421875 27.09375 -1.421875 \r\nQ 22.515625 -1.421875 17.65625 -0.515625 \r\nQ 12.796875 0.390625 7.625 2.203125 \r\nL 7.625 11.71875 \r\nQ 11.71875 9.328125 16.59375 8.109375 \r\nQ 21.484375 6.890625 26.8125 6.890625 \r\nQ 36.078125 6.890625 40.9375 10.546875 \r\nQ 45.796875 14.203125 45.796875 21.1875 \r\nQ 45.796875 27.640625 41.28125 31.265625 \r\nQ 36.765625 34.90625 28.71875 34.90625 \r\nL 20.21875 34.90625 \r\nL 20.21875 43.015625 \r\nL 29.109375 43.015625 \r\nQ 36.375 43.015625 40.234375 45.921875 \r\nQ 44.09375 48.828125 44.09375 54.296875 \r\nQ 44.09375 59.90625 40.109375 62.90625 \r\nQ 36.140625 65.921875 28.71875 65.921875 \r\nQ 24.65625 65.921875 20.015625 65.03125 \r\nQ 15.375 64.15625 9.8125 62.3125 \r\nL 9.8125 71.09375 \r\nQ 15.4375 72.65625 20.34375 73.4375 \r\nQ 25.25 74.21875 29.59375 74.21875 \r\nQ 40.828125 74.21875 47.359375 69.109375 \r\nQ 53.90625 64.015625 53.90625 55.328125 \r\nQ 53.90625 49.265625 50.4375 45.09375 \r\nQ 46.96875 40.921875 40.578125 39.3125 \r\nz\r\n\" id=\"DejaVuSans-51\"/>\r\n       </defs>\r\n       <use xlink:href=\"#DejaVuSans-51\"/>\r\n       <use x=\"63.623047\" xlink:href=\"#DejaVuSans-48\"/>\r\n      </g>\r\n     </g>\r\n    </g>\r\n   </g>\r\n   <g id=\"matplotlib.axis_2\">\r\n    <g id=\"ytick_1\">\r\n     <g id=\"line2d_8\">\r\n      <defs>\r\n       <path d=\"M 0 0 \r\nL -3.5 0 \r\n\" id=\"m972507702f\" style=\"stroke:#000000;stroke-width:0.8;\"/>\r\n      </defs>\r\n      <g>\r\n       <use style=\"stroke:#000000;stroke-width:0.8;\" x=\"26.925\" xlink:href=\"#m972507702f\" y=\"10.999219\"/>\r\n      </g>\r\n     </g>\r\n     <g id=\"text_8\">\r\n      <!-- 0 -->\r\n      <g transform=\"translate(13.5625 14.798437)scale(0.1 -0.1)\">\r\n       <use xlink:href=\"#DejaVuSans-48\"/>\r\n      </g>\r\n     </g>\r\n    </g>\r\n    <g id=\"ytick_2\">\r\n     <g id=\"line2d_9\">\r\n      <g>\r\n       <use style=\"stroke:#000000;stroke-width:0.8;\" x=\"26.925\" xlink:href=\"#m972507702f\" y=\"44.974219\"/>\r\n      </g>\r\n     </g>\r\n     <g id=\"text_9\">\r\n      <!-- 5 -->\r\n      <g transform=\"translate(13.5625 48.773437)scale(0.1 -0.1)\">\r\n       <use xlink:href=\"#DejaVuSans-53\"/>\r\n      </g>\r\n     </g>\r\n    </g>\r\n    <g id=\"ytick_3\">\r\n     <g id=\"line2d_10\">\r\n      <g>\r\n       <use style=\"stroke:#000000;stroke-width:0.8;\" x=\"26.925\" xlink:href=\"#m972507702f\" y=\"78.949219\"/>\r\n      </g>\r\n     </g>\r\n     <g id=\"text_10\">\r\n      <!-- 10 -->\r\n      <g transform=\"translate(7.2 82.748437)scale(0.1 -0.1)\">\r\n       <use xlink:href=\"#DejaVuSans-49\"/>\r\n       <use x=\"63.623047\" xlink:href=\"#DejaVuSans-48\"/>\r\n      </g>\r\n     </g>\r\n    </g>\r\n    <g id=\"ytick_4\">\r\n     <g id=\"line2d_11\">\r\n      <g>\r\n       <use style=\"stroke:#000000;stroke-width:0.8;\" x=\"26.925\" xlink:href=\"#m972507702f\" y=\"112.924219\"/>\r\n      </g>\r\n     </g>\r\n     <g id=\"text_11\">\r\n      <!-- 15 -->\r\n      <g transform=\"translate(7.2 116.723437)scale(0.1 -0.1)\">\r\n       <use xlink:href=\"#DejaVuSans-49\"/>\r\n       <use x=\"63.623047\" xlink:href=\"#DejaVuSans-53\"/>\r\n      </g>\r\n     </g>\r\n    </g>\r\n    <g id=\"ytick_5\">\r\n     <g id=\"line2d_12\">\r\n      <g>\r\n       <use style=\"stroke:#000000;stroke-width:0.8;\" x=\"26.925\" xlink:href=\"#m972507702f\" y=\"146.899219\"/>\r\n      </g>\r\n     </g>\r\n     <g id=\"text_12\">\r\n      <!-- 20 -->\r\n      <g transform=\"translate(7.2 150.698437)scale(0.1 -0.1)\">\r\n       <use xlink:href=\"#DejaVuSans-50\"/>\r\n       <use x=\"63.623047\" xlink:href=\"#DejaVuSans-48\"/>\r\n      </g>\r\n     </g>\r\n    </g>\r\n    <g id=\"ytick_6\">\r\n     <g id=\"line2d_13\">\r\n      <g>\r\n       <use style=\"stroke:#000000;stroke-width:0.8;\" x=\"26.925\" xlink:href=\"#m972507702f\" y=\"180.874219\"/>\r\n      </g>\r\n     </g>\r\n     <g id=\"text_13\">\r\n      <!-- 25 -->\r\n      <g transform=\"translate(7.2 184.673437)scale(0.1 -0.1)\">\r\n       <use xlink:href=\"#DejaVuSans-50\"/>\r\n       <use x=\"63.623047\" xlink:href=\"#DejaVuSans-53\"/>\r\n      </g>\r\n     </g>\r\n    </g>\r\n    <g id=\"ytick_7\">\r\n     <g id=\"line2d_14\">\r\n      <g>\r\n       <use style=\"stroke:#000000;stroke-width:0.8;\" x=\"26.925\" xlink:href=\"#m972507702f\" y=\"214.849219\"/>\r\n      </g>\r\n     </g>\r\n     <g id=\"text_14\">\r\n      <!-- 30 -->\r\n      <g transform=\"translate(7.2 218.648437)scale(0.1 -0.1)\">\r\n       <use xlink:href=\"#DejaVuSans-51\"/>\r\n       <use x=\"63.623047\" xlink:href=\"#DejaVuSans-48\"/>\r\n      </g>\r\n     </g>\r\n    </g>\r\n   </g>\r\n   <g id=\"patch_3\">\r\n    <path d=\"M 26.925 225.041719 \r\nL 26.925 7.601719 \r\n\" style=\"fill:none;stroke:#000000;stroke-linecap:square;stroke-linejoin:miter;stroke-width:0.8;\"/>\r\n   </g>\r\n   <g id=\"patch_4\">\r\n    <path d=\"M 244.365 225.041719 \r\nL 244.365 7.601719 \r\n\" style=\"fill:none;stroke:#000000;stroke-linecap:square;stroke-linejoin:miter;stroke-width:0.8;\"/>\r\n   </g>\r\n   <g id=\"patch_5\">\r\n    <path d=\"M 26.925 225.041719 \r\nL 244.365 225.041719 \r\n\" style=\"fill:none;stroke:#000000;stroke-linecap:square;stroke-linejoin:miter;stroke-width:0.8;\"/>\r\n   </g>\r\n   <g id=\"patch_6\">\r\n    <path d=\"M 26.925 7.601719 \r\nL 244.365 7.601719 \r\n\" style=\"fill:none;stroke:#000000;stroke-linecap:square;stroke-linejoin:miter;stroke-width:0.8;\"/>\r\n   </g>\r\n  </g>\r\n </g>\r\n <defs>\r\n  <clipPath id=\"pf4ec59eccc\">\r\n   <rect height=\"217.44\" width=\"217.44\" x=\"26.925\" y=\"7.601719\"/>\r\n  </clipPath>\r\n </defs>\r\n</svg>\r\n",
      "image/png": "[encoded data removed]"
     },
     "metadata": {
      "needs_background": "light"
     }
    },
    {
     "output_type": "stream",
     "name": "stdout",
     "text": "time: 2.62 s\n"
    }
   ],
   "source": [
    "i = 610\n",
    "plt.imshow(X_train_gray[i].squeeze(), cmap='gray')\n",
    "plt.figure()\n",
    "plt.imshow(X_train[i])\n",
    ""
   ]
  },
  {
   "cell_type": "markdown",
   "metadata": {},
   "source": [
    "# STEP 4: MODEL TRAINING"
   ]
  },
  {
   "cell_type": "code",
   "execution_count": 13,
   "metadata": {
    "tags": []
   },
   "outputs": [
    {
     "output_type": "stream",
     "name": "stdout",
     "text": "time: 24.3 s\n"
    }
   ],
   "source": [
    "import tensorflow as tf"
   ]
  },
  {
   "cell_type": "code",
   "execution_count": 14,
   "metadata": {
    "tags": []
   },
   "outputs": [
    {
     "output_type": "stream",
     "name": "stdout",
     "text": "time: 30 ms\n"
    }
   ],
   "source": [
    "from tensorflow.keras import Sequential\n",
    "from tensorflow.keras.layers import Conv2D, MaxPooling2D, AveragePooling2D, Dense, Flatten, Dropout\n",
    "from tensorflow.keras.optimizers import Adam\n",
    "from tensorflow.keras.callbacks import TensorBoard"
   ]
  },
  {
   "cell_type": "code",
   "execution_count": 15,
   "metadata": {
    "tags": []
   },
   "outputs": [
    {
     "output_type": "stream",
     "name": "stdout",
     "text": "time: 11 ms\n"
    }
   ],
   "source": [
    "image_shape = X_train_gray[i].shape"
   ]
  },
  {
   "cell_type": "code",
   "execution_count": null,
   "metadata": {},
   "outputs": [],
   "source": [
    "cnn_model = Sequential()\n",
    "\n",
    "cnn_model.add(Conv2D(filters=6, kernel_size=(5, 5), activation='relu', input_shape=(32,32,1)))\n",
    "cnn_model.add(AveragePooling2D())\n",
    "\n",
    "cnn_model.add(Conv2D(filters=16, kernel_size=(5, 5), activation='relu'))\n",
    "cnn_model.add(AveragePooling2D())\n",
    "\n",
    "cnn_model.add(Flatten())\n",
    "\n",
    "cnn_model.add(Dense(units=120, activation='relu'))\n",
    "\n",
    "cnn_model.add(Dense(units=84, activation='relu'))\n",
    "\n",
    "cnn_model.add(Dense(units=43, activation = 'softmax'))\n",
    ""
   ]
  },
  {
   "cell_type": "code",
   "execution_count": null,
   "metadata": {},
   "outputs": [],
   "source": [
    "cnn_model.compile(loss ='sparse_categorical_crossentropy', optimizer=Adam(lr=0.001),metrics =['accuracy'])"
   ]
  },
  {
   "cell_type": "code",
   "execution_count": null,
   "metadata": {},
   "outputs": [],
   "source": [
    "history = cnn_model.fit(X_train_gray_norm,\n",
    "                        y_train,\n",
    "                        batch_size=500,\n",
    "                        nb_epoch=50,\n",
    "                        verbose=1,\n",
    "                        validation_data = (X_validation_gray_norm,y_validation))"
   ]
  },
  {
   "cell_type": "markdown",
   "metadata": {},
   "source": [
    "# STEP 5: MODEL EVALUATION"
   ]
  },
  {
   "cell_type": "code",
   "execution_count": null,
   "metadata": {},
   "outputs": [],
   "source": [
    "score = cnn_model.evaluate(X_test_gray_norm, y_test,verbose=0)\n",
    "print('Test Accuracy : {:.4f}'.format(score[1]))"
   ]
  },
  {
   "cell_type": "code",
   "execution_count": null,
   "metadata": {},
   "outputs": [],
   "source": [
    "history.history.keys()"
   ]
  },
  {
   "cell_type": "code",
   "execution_count": null,
   "metadata": {},
   "outputs": [],
   "source": [
    "accuracy = history.history['acc']\n",
    "val_accuracy = history.history['val_acc']\n",
    "loss = history.history['loss']\n",
    "val_loss = history.history['val_loss']\n",
    "\n",
    "epochs = range(len(accuracy))\n",
    "\n",
    "plt.plot(epochs, accuracy, 'bo', label='Training Accuracy')\n",
    "plt.plot(epochs, val_accuracy, 'b', label='Validation Accuracy')\n",
    "plt.title('Training and Validation accuracy')\n",
    "plt.legend()\n",
    ""
   ]
  },
  {
   "cell_type": "code",
   "execution_count": null,
   "metadata": {},
   "outputs": [],
   "source": [
    "plt.plot(epochs, loss, 'ro', label='Training Loss')\n",
    "plt.plot(epochs, val_loss, 'r', label='Validation Loss')\n",
    "plt.title('Training and validation loss')\n",
    "plt.legend()\n",
    "plt.show()"
   ]
  },
  {
   "cell_type": "code",
   "execution_count": null,
   "metadata": {},
   "outputs": [],
   "source": [
    "#get the predictions for the test data\n",
    "predicted_classes = cnn_model.predict_classes(X_test_gray_norm)\n",
    "#get the indices to be plotted\n",
    "y_true = y_test\n",
    ""
   ]
  },
  {
   "cell_type": "code",
   "execution_count": null,
   "metadata": {},
   "outputs": [],
   "source": [
    "from sklearn.metrics import confusion_matrix\n",
    "cm = confusion_matrix(y_true, predicted_classes)\n",
    "plt.figure(figsize = (25,25))\n",
    "sns.heatmap(cm, annot=True)"
   ]
  },
  {
   "cell_type": "code",
   "execution_count": null,
   "metadata": {
    "scrolled": true
   },
   "outputs": [],
   "source": [
    "L = 7\n",
    "W = 7\n",
    "fig, axes = plt.subplots(L, W, figsize = (12,12))\n",
    "axes = axes.ravel() # \n",
    "\n",
    "for i in np.arange(0, L * W):  \n",
    "    axes[i].imshow(X_test[i])\n",
    "    axes[i].set_title(\"Prediction={}\\n True={}\".format(predicted_classes[i], y_true[i]))\n",
    "    axes[i].axis('off')\n",
    "\n",
    "plt.subplots_adjust(wspace=1)"
   ]
  },
  {
   "cell_type": "code",
   "execution_count": null,
   "metadata": {},
   "outputs": [],
   "source": []
  },
  {
   "cell_type": "code",
   "execution_count": null,
   "metadata": {},
   "outputs": [],
   "source": []
  }
 ],
 "metadata": {
  "kernelspec": {
   "display_name": "Python 3",
   "language": "python",
   "name": "python3"
  },
  "language_info": {
   "codemirror_mode": {
    "name": "ipython",
    "version": 3
   },
   "file_extension": ".py",
   "mimetype": "text/x-python",
   "name": "python",
   "nbconvert_exporter": "python",
   "pygments_lexer": "ipython3",
   "version": "3.7.8-final"
  },
  "widgets": {
   "state": {},
   "version": "1.1.2"
  }
 },
 "nbformat": 4,
 "nbformat_minor": 2
}